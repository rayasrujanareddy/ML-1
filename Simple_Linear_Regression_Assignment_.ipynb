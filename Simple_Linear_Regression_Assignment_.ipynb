{
  "nbformat": 4,
  "nbformat_minor": 0,
  "metadata": {
    "colab": {
      "provenance": [],
      "authorship_tag": "ABX9TyP1dWcMJABgMBiLNGO2TEBu",
      "include_colab_link": true
    },
    "kernelspec": {
      "name": "python3",
      "display_name": "Python 3"
    },
    "language_info": {
      "name": "python"
    }
  },
  "cells": [
    {
      "cell_type": "markdown",
      "metadata": {
        "id": "view-in-github",
        "colab_type": "text"
      },
      "source": [
        "<a href=\"https://colab.research.google.com/github/rayasrujanareddy/ML-1/blob/main/Simple_Linear_Regression_Assignment_.ipynb\" target=\"_parent\"><img src=\"https://colab.research.google.com/assets/colab-badge.svg\" alt=\"Open In Colab\"/></a>"
      ]
    },
    {
      "cell_type": "markdown",
      "source": [
        "## Question 1\n",
        "Dataset x = [0, 1, 2, 3, 4, 5, 6, 7, 8, 9] , y = [1, 3, 2, 5, 7, 8, 8, 9, 10, 12]"
      ],
      "metadata": {
        "id": "kt6GHfXH3hL5"
      }
    },
    {
      "cell_type": "code",
      "source": [
        "import numpy as np\n",
        "\n",
        "# Data\n",
        "x = np.array([0, 1, 2, 3, 4, 5, 6, 7, 8, 9])\n",
        "y = np.array([1, 3, 2, 5, 7, 8, 8, 9, 10, 12])\n",
        "\n",
        "# Calculate coefficients using analytic formulation\n",
        "n = len(x)\n",
        "x_mean = np.mean(x)\n",
        "y_mean = np.mean(y)\n",
        "\n",
        "beta_1 = np.sum((x - x_mean) * (y - y_mean)) / np.sum((x - x_mean) ** 2)\n",
        "beta_0 = y_mean - beta_1 * x_mean\n",
        "\n",
        "# Predictions\n",
        "y_pred = beta_0 + beta_1 * x\n",
        "\n",
        "# Calculate SSE\n",
        "SSE = np.sum((y - y_pred) ** 2)\n",
        "\n",
        "# Calculate R-squared\n",
        "SS_total = np.sum((y - y_mean) ** 2)\n",
        "r_squared = 1 - (SSE / SS_total)\n",
        "\n",
        "# Print results\n",
        "print(f\"Analytic Formulation Coefficients: beta_0 = {beta_0:.4f}, beta_1 = {beta_1:.4f}\")\n",
        "print(f\"SSE: {SSE:.4f}, R-squared: {r_squared:.4f}\")\n"
      ],
      "metadata": {
        "colab": {
          "base_uri": "https://localhost:8080/"
        },
        "id": "VTapjrS23obl",
        "outputId": "4e2e449b-3bc3-4214-d0cf-b544bb0cbc43"
      },
      "execution_count": 31,
      "outputs": [
        {
          "output_type": "stream",
          "name": "stdout",
          "text": [
            "Analytic Formulation Coefficients: beta_0 = 1.2364, beta_1 = 1.1697\n",
            "SSE: 5.6242, R-squared: 0.9525\n"
          ]
        }
      ]
    },
    {
      "cell_type": "markdown",
      "source": [
        "## Gradient Descent (Full-Batch)"
      ],
      "metadata": {
        "id": "ADIdt0cMFWza"
      }
    },
    {
      "cell_type": "code",
      "source": [
        "import numpy as np\n",
        "\n",
        "# Data\n",
        "x = np.array([0, 1, 2, 3, 4, 5, 6, 7, 8, 9])\n",
        "y = np.array([1, 3, 2, 5, 7, 8, 8, 9, 10, 12])\n",
        "\n",
        "# Gradient Descent (Full-Batch)\n",
        "alpha = 0.01\n",
        "iterations = 1000\n",
        "beta_0, beta_1 = 0.0, 0.0\n",
        "\n",
        "for _ in range(iterations):\n",
        "    y_pred = beta_0 + beta_1 * x\n",
        "    error = y - y_pred\n",
        "    beta_0 += (alpha / n) * np.sum(error)\n",
        "    beta_1 += (alpha / n) * np.sum(error * x)\n",
        "\n",
        "# Predictions\n",
        "y_pred_gd = beta_0 + beta_1 * x\n",
        "\n",
        "# Calculate SSE and R-squared\n",
        "SSE_gd = np.sum((y - y_pred_gd) ** 2)\n",
        "r_squared_gd = 1 - (SSE_gd / SS_total)\n",
        "\n",
        "# Print results\n",
        "print(f\"Gradient Descent (Full-Batch) Coefficients: beta_0 = {beta_0:.4f}, beta_1 = {beta_1:.4f}\")\n",
        "print(f\"SSE: {SSE_gd:.4f}, R-squared: {r_squared_gd:.4f}\")\n"
      ],
      "metadata": {
        "colab": {
          "base_uri": "https://localhost:8080/"
        },
        "id": "y1oW-Nu3Ec3v",
        "outputId": "56cfb8a0-c54c-4a16-f105-1855bb8a99b8"
      },
      "execution_count": 32,
      "outputs": [
        {
          "output_type": "stream",
          "name": "stdout",
          "text": [
            "Gradient Descent (Full-Batch) Coefficients: beta_0 = 1.1758, beta_1 = 1.1794\n",
            "SSE: 5.6349, R-squared: 0.9524\n"
          ]
        }
      ]
    },
    {
      "cell_type": "markdown",
      "source": [
        "## Gradient Descent (Stochastic )"
      ],
      "metadata": {
        "id": "vHFQKH_-Fhfn"
      }
    },
    {
      "cell_type": "code",
      "source": [
        "import numpy as np\n",
        "\n",
        "# Data\n",
        "x = np.array([0, 1, 2, 3, 4, 5, 6, 7, 8, 9])\n",
        "y = np.array([1, 3, 2, 5, 7, 8, 8, 9, 10, 12])\n",
        "\n",
        "# Parameters\n",
        "alpha = 0.01  # Learning rate\n",
        "iterations = 1000  # Number of epochs\n",
        "beta_0, beta_1 = 0.0, 0.0  # Initial coefficients\n",
        "n = len(x)\n",
        "\n",
        "# Stochastic Gradient Descent\n",
        "for epoch in range(iterations):\n",
        "    for i in range(n):\n",
        "        # Randomly select one data point\n",
        "        random_index = np.random.randint(n)\n",
        "        x_i = x[random_index]\n",
        "        y_i = y[random_index]\n",
        "\n",
        "        # Prediction for the selected point\n",
        "        y_pred_i = beta_0 + beta_1 * x_i\n",
        "\n",
        "        # Error calculation\n",
        "        error_i = y_i - y_pred_i\n",
        "\n",
        "        # Coefficient updates\n",
        "        beta_0 += alpha * error_i\n",
        "        beta_1 += alpha * error_i * x_i\n",
        "\n",
        "# Predictions for the entire dataset\n",
        "y_pred_sgd = beta_0 + beta_1 * x\n",
        "\n",
        "# Calculate SSE and R-squared\n",
        "SSE_sgd = np.sum((y - y_pred_sgd) ** 2)\n",
        "y_mean = np.mean(y)\n",
        "SS_total = np.sum((y - y_mean) ** 2)\n",
        "r_squared_sgd = 1 - (SSE_sgd / SS_total)\n",
        "\n",
        "# Print results\n",
        "print(f\"SGD Coefficients: beta_0 = {beta_0:.4f}, beta_1 = {beta_1:.4f}\")\n",
        "print(f\"SSE: {SSE_sgd:.4f}, R-squared: {r_squared_sgd:.4f}\")\n"
      ],
      "metadata": {
        "colab": {
          "base_uri": "https://localhost:8080/"
        },
        "id": "cs0SHDO8EiWT",
        "outputId": "19d51b65-dfbe-4ec8-bda2-790be9396a13"
      },
      "execution_count": 33,
      "outputs": [
        {
          "output_type": "stream",
          "name": "stdout",
          "text": [
            "SGD Coefficients: beta_0 = 1.1780, beta_1 = 1.2311\n",
            "SSE: 6.4109, R-squared: 0.9459\n"
          ]
        }
      ]
    },
    {
      "cell_type": "markdown",
      "source": [
        "# Question 2 - Boston Housing Rate Dataset.\n",
        " Importing necessary libraries"
      ],
      "metadata": {
        "id": "wNahozI32wHW"
      }
    },
    {
      "cell_type": "code",
      "execution_count": 34,
      "metadata": {
        "colab": {
          "base_uri": "https://localhost:8080/"
        },
        "id": "fp7gTF-1PQim",
        "outputId": "b3e73eec-2d84-4bfc-f0f1-202309e8fa63"
      },
      "outputs": [
        {
          "output_type": "stream",
          "name": "stdout",
          "text": [
            "      crim    zn  indus  chas    nox     rm   age     dis  rad  tax  ptratio  \\\n",
            "0  0.00632  18.0   2.31     0  0.538  6.575  65.2  4.0900    1  296     15.3   \n",
            "1  0.02731   0.0   7.07     0  0.469  6.421  78.9  4.9671    2  242     17.8   \n",
            "2  0.02729   0.0   7.07     0  0.469  7.185  61.1  4.9671    2  242     17.8   \n",
            "3  0.03237   0.0   2.18     0  0.458  6.998  45.8  6.0622    3  222     18.7   \n",
            "4  0.06905   0.0   2.18     0  0.458  7.147  54.2  6.0622    3  222     18.7   \n",
            "\n",
            "        b  lstat  medv  \n",
            "0  396.90   4.98  24.0  \n",
            "1  396.90   9.14  21.6  \n",
            "2  392.83   4.03  34.7  \n",
            "3  394.63   2.94  33.4  \n",
            "4  396.90   5.33  36.2  \n",
            "<class 'pandas.core.frame.DataFrame'>\n",
            "RangeIndex: 506 entries, 0 to 505\n",
            "Data columns (total 14 columns):\n",
            " #   Column   Non-Null Count  Dtype  \n",
            "---  ------   --------------  -----  \n",
            " 0   crim     506 non-null    float64\n",
            " 1   zn       506 non-null    float64\n",
            " 2   indus    506 non-null    float64\n",
            " 3   chas     506 non-null    int64  \n",
            " 4   nox      506 non-null    float64\n",
            " 5   rm       506 non-null    float64\n",
            " 6   age      506 non-null    float64\n",
            " 7   dis      506 non-null    float64\n",
            " 8   rad      506 non-null    int64  \n",
            " 9   tax      506 non-null    int64  \n",
            " 10  ptratio  506 non-null    float64\n",
            " 11  b        506 non-null    float64\n",
            " 12  lstat    506 non-null    float64\n",
            " 13  medv     506 non-null    float64\n",
            "dtypes: float64(11), int64(3)\n",
            "memory usage: 55.5 KB\n",
            "None\n"
          ]
        }
      ],
      "source": [
        "import numpy as np\n",
        "import pandas as pd\n",
        "from sklearn.model_selection import train_test_split\n",
        "import matplotlib.pyplot as plt\n",
        "import seaborn as sns\n",
        "from sklearn.metrics import mean_squared_error, r2_score\n",
        "\n",
        "#Load dataset\n",
        "dataset = pd.read_csv('/content/BostonHousing.csv')\n",
        "\n",
        "#Inspect the dataset\n",
        "print(dataset.head()) # Changed 'boston' to 'dataset'\n",
        "print(dataset.info()) # Changed 'boston' to 'dataset'\n",
        "\n",
        "# Boston housing prices dataset has been removed. Use the California housing dataset instead.\n",
        "from sklearn.datasets import fetch_california_housing\n",
        "housing = fetch_california_housing()\n",
        "\n",
        "# Create DataFrame\n",
        "df = pd.DataFrame(housing.data, columns=housing.feature_names)\n",
        "df['PRICE'] = housing.target"
      ]
    },
    {
      "cell_type": "markdown",
      "source": [
        "## Correlation analysis"
      ],
      "metadata": {
        "id": "YEzWZOGSW-Nn"
      }
    },
    {
      "cell_type": "code",
      "source": [
        "\n",
        "# Correlation analysis\n",
        "correlations = df.corr()\n",
        "print(\"Correlation with Price:\\n\", correlations['PRICE'])\n",
        "\n",
        "# Find the feature with the highest correlation (excluding 'PRICE' itself)\n",
        "best_correlated_feature = correlations['PRICE'].drop('PRICE').idxmax()\n",
        "print(f\"Best correlated feature with PRICE: {best_correlated_feature}\")\n"
      ],
      "metadata": {
        "colab": {
          "base_uri": "https://localhost:8080/"
        },
        "id": "e6dL9-pOWu4_",
        "outputId": "01ef0cb6-a453-48b9-cdb2-e9d8d23f8697"
      },
      "execution_count": 35,
      "outputs": [
        {
          "output_type": "stream",
          "name": "stdout",
          "text": [
            "Correlation with Price:\n",
            " MedInc        0.688075\n",
            "HouseAge      0.105623\n",
            "AveRooms      0.151948\n",
            "AveBedrms    -0.046701\n",
            "Population   -0.024650\n",
            "AveOccup     -0.023737\n",
            "Latitude     -0.144160\n",
            "Longitude    -0.045967\n",
            "PRICE         1.000000\n",
            "Name: PRICE, dtype: float64\n",
            "Best correlated feature with PRICE: MedInc\n"
          ]
        }
      ]
    },
    {
      "cell_type": "markdown",
      "source": [
        "\n",
        "## Implement the Analytic Formulation"
      ],
      "metadata": {
        "id": "y5eSxzg4T_uM"
      }
    },
    {
      "cell_type": "code",
      "source": [
        "# The attribute with the highest correlation will be selected for regression\n",
        "# 'MedInc' (median income) has the highest positive correlation with Price\n",
        "X = df[['MedInc']].values  # Replace with the actual best-correlated feature\n",
        "y = df['PRICE'].values.reshape(-1, 1)\n",
        "\n",
        "# Split the data into train and test sets\n",
        "X_train, X_test, y_train, y_test = train_test_split(X, y, test_size=0.2, random_state=42)\n",
        "\n",
        "# Adding a bias column (intercept) to the training data\n",
        "X_b_train = np.c_[np.ones((X_train.shape[0], 1)), X_train]\n",
        "\n",
        "# Compute the theta (coefficients) using the Normal Equation (Analytic Formulation)\n",
        "theta_analytic = np.linalg.inv(X_b_train.T.dot(X_b_train)).dot(X_b_train.T).dot(y_train)\n",
        "print(\"Analytic solution coefficients:\", theta_analytic)\n",
        "\n"
      ],
      "metadata": {
        "colab": {
          "base_uri": "https://localhost:8080/"
        },
        "id": "rkSAloxiTsA4",
        "outputId": "938b7397-0446-4f38-dab0-ea2823e07309"
      },
      "execution_count": 36,
      "outputs": [
        {
          "output_type": "stream",
          "name": "stdout",
          "text": [
            "Analytic solution coefficients: [[0.44459729]\n",
            " [0.41933849]]\n"
          ]
        }
      ]
    },
    {
      "cell_type": "markdown",
      "source": [
        "## Implement Gradient Descent (Full-batch)"
      ],
      "metadata": {
        "id": "yPJje3fsUEsH"
      }
    },
    {
      "cell_type": "code",
      "source": [
        "# Full-batch gradient descent for linear regression\n",
        "def gradient_descent(X, y, lr=0.01, epochs=1000):\n",
        "    m = len(y)\n",
        "    X_b = np.c_[np.ones((m, 1)), X]  # Add bias column\n",
        "    theta = np.random.randn(X_b.shape[1], 1)  # Random initialization of coefficients\n",
        "    for epoch in range(epochs):\n",
        "        gradients = 2/m * X_b.T.dot(X_b.dot(theta) - y)\n",
        "        theta -= lr * gradients\n",
        "    return theta\n",
        "\n",
        "theta_gd_full = gradient_descent(X_train, y_train)\n",
        "print(\"Full-batch Gradient Descent coefficients:\", theta_gd_full)\n",
        "\n",
        "\n"
      ],
      "metadata": {
        "colab": {
          "base_uri": "https://localhost:8080/"
        },
        "id": "jG6b1lFMUFIy",
        "outputId": "ae13798b-6788-4769-f382-fe70e9b5597c"
      },
      "execution_count": 37,
      "outputs": [
        {
          "output_type": "stream",
          "name": "stdout",
          "text": [
            "Full-batch Gradient Descent coefficients: [[0.47189966]\n",
            " [0.41361139]]\n"
          ]
        }
      ]
    },
    {
      "cell_type": "markdown",
      "source": [
        "## Implement Stochastic Gradient Descent"
      ],
      "metadata": {
        "id": "Mv35qrFhUUJH"
      }
    },
    {
      "cell_type": "code",
      "source": [
        "# Stochastic Gradient Descent (SGD)\n",
        "def stochastic_gradient_descent(X, y, lr=0.01, epochs=50):\n",
        "    m = len(y)\n",
        "    X_b = np.c_[np.ones((m, 1)), X]  # Add bias column\n",
        "    theta = np.random.randn(X_b.shape[1], 1)  # Random initialization\n",
        "    for epoch in range(epochs):\n",
        "        for i in range(m):\n",
        "            random_index = np.random.randint(m)\n",
        "            xi = X_b[random_index:random_index+1]\n",
        "            yi = y[random_index:random_index+1]\n",
        "            gradients = 2 * xi.T.dot(xi.dot(theta) - yi)\n",
        "            theta -= lr * gradients\n",
        "    return theta\n",
        "\n",
        "theta_sgd = stochastic_gradient_descent(X_train, y_train)\n",
        "print(\"Stochastic Gradient Descent coefficients:\", theta_sgd)"
      ],
      "metadata": {
        "colab": {
          "base_uri": "https://localhost:8080/"
        },
        "id": "-x13S7HsUUpq",
        "outputId": "bcb8f076-8a0d-4c15-c631-0275f4dd834f"
      },
      "execution_count": 38,
      "outputs": [
        {
          "output_type": "stream",
          "name": "stdout",
          "text": [
            "Stochastic Gradient Descent coefficients: [[0.51044168]\n",
            " [0.95843231]]\n"
          ]
        }
      ]
    },
    {
      "cell_type": "markdown",
      "source": [
        "## Predicting"
      ],
      "metadata": {
        "id": "idvV0pxHet4z"
      }
    },
    {
      "cell_type": "code",
      "source": [
        "# Predicting with Analytic, Full-batch, and SGD solutions\n",
        "X_b_test = np.c_[np.ones((X_test.shape[0], 1)), X_test]\n",
        "\n",
        "y_pred_analytic = X_b_test.dot(theta_analytic)\n",
        "y_pred_gd_full = X_b_test.dot(theta_gd_full)\n",
        "y_pred_sgd = X_b_test.dot(theta_sgd)"
      ],
      "metadata": {
        "id": "5EnRCiideumK"
      },
      "execution_count": 39,
      "outputs": []
    },
    {
      "cell_type": "markdown",
      "source": [
        "## Compare the results"
      ],
      "metadata": {
        "id": "bZMgcW-HUx2q"
      }
    },
    {
      "cell_type": "code",
      "source": [
        "\n",
        "print(f\"Analytic solution coefficients:\", r2_analytic)\n",
        "print(f\"Full-batch Gradient Descent coefficients:\", r2_gd_full)\n",
        "print(f\" Stochastic Gradient Descent coefficients:\", r2_sgd)"
      ],
      "metadata": {
        "colab": {
          "base_uri": "https://localhost:8080/"
        },
        "id": "1DWlAPl7fKZ8",
        "outputId": "d76aeb60-b193-4ebd-9c68-e0d4e9451da8"
      },
      "execution_count": 40,
      "outputs": [
        {
          "output_type": "stream",
          "name": "stdout",
          "text": [
            "Analytic solution coefficients: 0.45885918903846656\n",
            "Full-batch Gradient Descent coefficients: 0.45883106850758815\n",
            " Stochastic Gradient Descent coefficients: 0.4359871568434257\n"
          ]
        }
      ]
    }
  ]
}